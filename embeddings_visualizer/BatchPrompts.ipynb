{
 "cells": [
  {
   "cell_type": "code",
   "execution_count": 36,
   "id": "8f4c9de3",
   "metadata": {},
   "outputs": [
    {
     "data": {
      "text/plain": [
       "True"
      ]
     },
     "execution_count": 36,
     "metadata": {},
     "output_type": "execute_result"
    }
   ],
   "source": [
    "import requests\n",
    "import json\n",
    "import numpy as np\n",
    "import ast\n",
    "import pandas as pd\n",
    "# IMPORT MODULES - AZURE OPENAI \n",
    "import os\n",
    "from openai import AzureOpenAI\n",
    "# import re\n",
    "from dotenv import load_dotenv, find_dotenv\n",
    "# import json\n",
    "# import boto3\n",
    "from datetime import datetime\n",
    "# Load the environment variables from the .env file\n",
    "load_dotenv()\n"
   ]
  },
  {
   "cell_type": "code",
   "execution_count": 37,
   "id": "2df96232-d74b-4825-aad8-58f3aa0d3d98",
   "metadata": {},
   "outputs": [
    {
     "data": {
      "text/plain": [
       "Index(['Prompts'], dtype='object')"
      ]
     },
     "execution_count": 37,
     "metadata": {},
     "output_type": "execute_result"
    }
   ],
   "source": [
    "df = pd.read_csv(\"./Prompts.csv\")\n",
    "df.columns"
   ]
  },
  {
   "cell_type": "code",
   "execution_count": 38,
   "id": "3abc5f5a",
   "metadata": {},
   "outputs": [],
   "source": [
    "#DEFINE ENVIRONMENT VARIABLES\n",
    "OPENAI_API_KEY = os.getenv('AZURE_OPENAI_API_KEY')\n",
    "#OPENAI_API_KEY = os.getenv('AZURE_GPT4_OPENAI_API_KEY')\n",
    "\n",
    "# DEPLOYMENT_NAME = 'GPT4o128k' # ENTER DEPLOYMENT NAME PER THE AZURE PORTAL DEPLOYMENTS PAGE\n",
    "# DEPLOYMENT_NAME = 'GPT4omini128k' # ENTER DEPLOYMENT NAME PER THE AZURE PORTAL DEPLOYMENTS PAGE\n",
    "# DEPLOYMENT_NAME = 'GPT35Turbo' # ENTER DEPLOYMENT NAME PER THE AZURE PORTAL DEPLOYMENTS PAGE\n",
    "DEPLOYMENT_NAME = 'GPT35Turbo16k' # ENTER DEPLOYMENT NAME PER THE AZURE PORTAL DEPLOYMENTS PAGE\n",
    "# DEPLOYMENT_NAME = 'GPT4-8K' # ENTER DEPLOYMENT NAME PER THE AZURE PORTAL DEPLOYMENTS PAGE\n",
    "# DEPLOYMENT_NAME = 'GPT4Turbo128k' # ENTER DEPLOYMENT NAME PER THE AZURE PORTAL DEPLOYMENTS PAGE\n",
    "\n",
    "OPENAI_API_VERSION = '2024-10-21'  \n",
    "\n",
    "HEADERS = {\n",
    "    'x-service-line': 'CXM', # NEEDS TO BE UPDATED\n",
    "    'x-brand': 'dentsu', # NEEDS TO BE UPDATED\n",
    "    'x-project': 'NonprodPOCOpenAIGPT35TurboAda02Medium', # NEEDS TO BE UPDATED\n",
    "    'Content-Type': 'application/json',\n",
    "    'Cache-Control': 'no-cache',\n",
    "    'Ocp-Apim-Subscription-Key': OPENAI_API_KEY,\n",
    "    'api-version': 'v15'\n",
    "}\n",
    "\n",
    "LLM = AzureOpenAI(\n",
    "    api_key=OPENAI_API_KEY,\n",
    "    api_version=OPENAI_API_VERSION,\n",
    "    azure_endpoint='https://ai-api-dev.dentsu.com/',\n",
    "    default_headers=HEADERS\n",
    ")\n"
   ]
  },
  {
   "cell_type": "code",
   "execution_count": 39,
   "id": "31485657",
   "metadata": {},
   "outputs": [],
   "source": [
    "#DEFINE PROMPT\n",
    "prompt = f'''\n",
    "\n",
    "How many days are there in December?\n",
    "\n",
    "'''"
   ]
  },
  {
   "cell_type": "code",
   "execution_count": 40,
   "id": "c85eb6e5-bca5-4fb8-abbf-725a4f17f972",
   "metadata": {},
   "outputs": [],
   "source": [
    "input_messages = [{\"role\":\"user\",\"content\" : row['Prompts']} for index, row in df.iterrows()]"
   ]
  },
  {
   "cell_type": "code",
   "execution_count": 41,
   "id": "85e06e2e-c70e-469f-baa4-90b99c756c74",
   "metadata": {},
   "outputs": [
    {
     "data": {
      "text/plain": [
       "[{'role': 'user',\n",
       "  'content': 'as a marketing person, create a Home Loan offer headline in formal tone in less than 64 characters'},\n",
       " {'role': 'user',\n",
       "  'content': 'as a marketing person, create a Home Loan offer headline in cheerful tone in less than 64 characters'},\n",
       " {'role': 'user',\n",
       "  'content': 'as a marketing person, create a Home Loan offer headline in Humorous tone in less than 64 characters'},\n",
       " {'role': 'user',\n",
       "  'content': 'as a marketing person, create a Retail loan offer headline in formal tone in less than 64 characters'},\n",
       " {'role': 'user',\n",
       "  'content': 'as a marketing person, create a Retail loan offer headline in cheerful tone'},\n",
       " {'role': 'user',\n",
       "  'content': 'as a marketing person, create a Retail loan offer headline in Humorous tone'},\n",
       " {'role': 'user',\n",
       "  'content': 'as a marketing person, create a Fixed loan offer headline in formal tone'},\n",
       " {'role': 'user',\n",
       "  'content': 'as a marketing person, create a Fixed loan offer headline in cheerful tone'},\n",
       " {'role': 'user',\n",
       "  'content': 'as a marketing person, create a Fixed loan offer headline in Humorous tone'},\n",
       " {'role': 'user',\n",
       "  'content': 'as a marketing person, create a Platinum credit card offer headline in formal tone in less than 64 characters'},\n",
       " {'role': 'user',\n",
       "  'content': 'as a marketing person, create a Platinum credit card offer headline in cheerful tone in less than 64 characters'},\n",
       " {'role': 'user',\n",
       "  'content': 'as a marketing person, create a Platinum credit card offer headline in Humorous tone in less than 64 characters'},\n",
       " {'role': 'user',\n",
       "  'content': 'as a marketing person, create a Travel credit card offer headline in formal tone in less than 64 character'},\n",
       " {'role': 'user',\n",
       "  'content': 'as a marketing person, create a Travel credit card offer headline in cheerful tone in less than 64 characters'},\n",
       " {'role': 'user',\n",
       "  'content': 'as a marketing person, create a Travel credit card offer headline in Humorous tone in less than 64 characters'},\n",
       " {'role': 'user',\n",
       "  'content': 'as a marketing person, create a Rewards credit card offer headline in formal tone in less than 64 characters'},\n",
       " {'role': 'user',\n",
       "  'content': 'as a marketing person, create a Rewards credit card offer headline in cheerful tone in less than 64 characters'},\n",
       " {'role': 'user',\n",
       "  'content': 'as a marketing person, create a Rewards credit card offer headline in Humorous tone in less than 64 characters'},\n",
       " {'role': 'user',\n",
       "  'content': 'as a marketing person, create a regular saving offer headline in formal tone'},\n",
       " {'role': 'user',\n",
       "  'content': 'as a marketing person, create a regular saving offer headline in cheerful tone'},\n",
       " {'role': 'user',\n",
       "  'content': 'as a marketing person, create a regular saving offer headline in Humorous tone'},\n",
       " {'role': 'user',\n",
       "  'content': 'as a marketing person, create a premier saving offer headline in formal tone in less than 64 characters'},\n",
       " {'role': 'user',\n",
       "  'content': 'as a marketing person, create a premier saving offer headline in cheerful tone in less than 64 characters'},\n",
       " {'role': 'user',\n",
       "  'content': 'as a marketing person, create a premier saving offer headline in Humorous tone in less than 64 characters'},\n",
       " {'role': 'user',\n",
       "  'content': 'as a marketing person, create a ISA saving offer headline in formal tone'},\n",
       " {'role': 'user',\n",
       "  'content': 'as a marketing person, create a ISA saving offer headline in cheerful tone'},\n",
       " {'role': 'user',\n",
       "  'content': 'as a marketing person, create a ISA saving offer headline in Humorous tone'},\n",
       " {'role': 'user',\n",
       "  'content': 'as a marketing person, create a investment offer headline in formal tone'},\n",
       " {'role': 'user',\n",
       "  'content': 'as a marketing person, create a investment offer headline in cheerful tone'},\n",
       " {'role': 'user',\n",
       "  'content': 'as a marketing person, create a investment offer headline in Humorous tone'},\n",
       " {'role': 'user',\n",
       "  'content': 'as a marketing person, create a premier investment offer headline in formal tone in less than 64 characters'},\n",
       " {'role': 'user',\n",
       "  'content': 'as a marketing person, create a premier investment offer headline in cheerful tone in less than 64 characters'},\n",
       " {'role': 'user',\n",
       "  'content': 'as a marketing person, create a premier investment offer headline in Humorous tone in less than 64 characters'},\n",
       " {'role': 'user',\n",
       "  'content': 'as a marketing person, create a Pension investment offer headline in formal tone in less than 64 characters'},\n",
       " {'role': 'user',\n",
       "  'content': 'as a marketing person, create a Pension investment offer headline in cheerful tone in less than 64 characters'},\n",
       " {'role': 'user',\n",
       "  'content': 'as a marketing person, create a Pension investment offer headline in Humorous tone in less than 64 characters'}]"
      ]
     },
     "execution_count": 41,
     "metadata": {},
     "output_type": "execute_result"
    }
   ],
   "source": [
    "input_messages"
   ]
  },
  {
   "cell_type": "code",
   "execution_count": null,
   "id": "5b3566b8-6afe-4938-a570-e341ad88059f",
   "metadata": {},
   "outputs": [],
   "source": [
    "df = df[df['Prompts'].notna()]\n",
    "\n",
    "for index, row in df.iterrows():\n",
    "\n",
    "    data = {\"role\":\"user\",\"content\" : row['Prompts']} \n",
    "\n",
    "    response = LLM.chat.completions.create(\n",
    "        model= DEPLOYMENT_NAME,\n",
    "        messages=[\n",
    "        {\n",
    "            \"role\": \"user\",\n",
    "            \"content\": row['Prompts']\n",
    "        }\n",
    "        ],\n",
    "        temperature=0.3,\n",
    "        top_p=0.9, #Higher values like 0.9 allow more tokens, leading to diverse responses, while lower values like 0.2 provide more focused and constrained answers.\n",
    "        frequency_penalty=0.6, #Higher values penalize the model for repeating the same response, while lower values encourage repetition.\n",
    "        presence_penalty=0.6, #Higher values encourage the model to talk about new topics, while lower values encourage the model to repeat itself.\n",
    "        max_tokens=150,\n",
    "       )\n",
    "\n",
    "    content = response.choices[0].message.content\n",
    "    "
   ]
  },
  {
   "cell_type": "code",
   "execution_count": 42,
   "id": "0151b929",
   "metadata": {},
   "outputs": [],
   "source": [
    "#CREATE CHAT COMPLETION\n",
    "\n",
    "response = LLM.chat.completions.create(\n",
    "    model= DEPLOYMENT_NAME,\n",
    "    messages=[\n",
    "        {\n",
    "            \"role\": \"user\",\n",
    "            \"content\": \"How many days are there in May?\"\n",
    "        }\n",
    "    ],\n",
    "    temperature=0.3,\n",
    "    top_p=0.9, #Higher values like 0.9 allow more tokens, leading to diverse responses, while lower values like 0.2 provide more focused and constrained answers.\n",
    "    frequency_penalty=0.6, #Higher values penalize the model for repeating the same response, while lower values encourage repetition.\n",
    "    presence_penalty=0.6, #Higher values encourage the model to talk about new topics, while lower values encourage the model to repeat itself.\n",
    "    max_tokens=150,\n",
    ")"
   ]
  },
  {
   "cell_type": "code",
   "execution_count": 43,
   "id": "01fa93b1-1fa9-4818-8455-1dc41612e400",
   "metadata": {},
   "outputs": [
    {
     "data": {
      "text/plain": [
       "ChatCompletion(id='chatcmpl-BRJljpXu8upf0Go4imZREmyLLb7qL', choices=[Choice(finish_reason='stop', index=0, logprobs=None, message=ChatCompletionMessage(content='There are 31 days in May.', refusal=None, role='assistant', annotations=None, audio=None, function_call=None, tool_calls=None), content_filter_results={'hate': {'filtered': False, 'severity': 'safe'}, 'self_harm': {'filtered': False, 'severity': 'safe'}, 'sexual': {'filtered': False, 'severity': 'safe'}, 'violence': {'filtered': False, 'severity': 'safe'}})], created=1745850547, model='gpt-35-turbo-16k', object='chat.completion', service_tier=None, system_fingerprint='fp_0165350fbb', usage=CompletionUsage(completion_tokens=8, prompt_tokens=15, total_tokens=23, completion_tokens_details=None, prompt_tokens_details=None), prompt_filter_results=[{'prompt_index': 0, 'content_filter_results': {'hate': {'filtered': False, 'severity': 'safe'}, 'self_harm': {'filtered': False, 'severity': 'safe'}, 'sexual': {'filtered': False, 'severity': 'safe'}, 'violence': {'filtered': False, 'severity': 'safe'}}}])"
      ]
     },
     "execution_count": 43,
     "metadata": {},
     "output_type": "execute_result"
    }
   ],
   "source": [
    "response"
   ]
  },
  {
   "cell_type": "code",
   "execution_count": 44,
   "id": "8fdde555",
   "metadata": {},
   "outputs": [
    {
     "name": "stdout",
     "output_type": "stream",
     "text": [
      "Prompt: How many days are there in December?\n",
      "--------------------------------------------\n",
      "Response: There are 31 days in May.\n",
      "--------------------------------------------\n",
      "Prompt Tokens: 15\n",
      "Completion Tokens: 8\n",
      "Total Tokens: 23\n"
     ]
    }
   ],
   "source": [
    "#EXTRACT RESPONSE AND PRINT THE RESULTS\n",
    "content = response.choices[0].message.content\n",
    "prompt_tokens = response.usage.prompt_tokens\n",
    "completion_tokens = response.usage.completion_tokens\n",
    "total_tokens = response.usage.total_tokens\n",
    "#################\n",
    "print(\"Prompt:\", prompt.strip())\n",
    "print(\"--------------------------------------------\")\n",
    "print(\"Response:\", content)\n",
    "print(\"--------------------------------------------\")\n",
    "print(\"Prompt Tokens:\", prompt_tokens)\n",
    "print(\"Completion Tokens:\", completion_tokens)\n",
    "print(\"Total Tokens:\", total_tokens)"
   ]
  },
  {
   "cell_type": "code",
   "execution_count": null,
   "id": "72d6e335-77df-45b8-906f-8b543ae7b972",
   "metadata": {},
   "outputs": [],
   "source": []
  }
 ],
 "metadata": {
  "kernelspec": {
   "display_name": "Python 3 (ipykernel)",
   "language": "python",
   "name": "python3"
  },
  "language_info": {
   "codemirror_mode": {
    "name": "ipython",
    "version": 3
   },
   "file_extension": ".py",
   "mimetype": "text/x-python",
   "name": "python",
   "nbconvert_exporter": "python",
   "pygments_lexer": "ipython3",
   "version": "3.12.10"
  }
 },
 "nbformat": 4,
 "nbformat_minor": 5
}

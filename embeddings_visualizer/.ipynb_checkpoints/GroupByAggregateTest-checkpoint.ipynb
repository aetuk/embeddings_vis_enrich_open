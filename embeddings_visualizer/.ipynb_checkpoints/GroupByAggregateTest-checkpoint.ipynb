{
 "cells": [
  {
   "cell_type": "code",
   "execution_count": 62,
   "id": "6e00c9ec-2587-47ce-b5bf-0fb93ce9fff2",
   "metadata": {},
   "outputs": [],
   "source": [
    "import requests\n",
    "import json\n",
    "import numpy as np\n",
    "import ast\n",
    "\n",
    "import pandas as pd\n",
    "\n",
    "import urllib.request, json, os\n",
    "from dotenv import load_dotenv, find_dotenv\n",
    "\n",
    "load_dotenv(find_dotenv())\n",
    "\n",
    "df = pd.read_csv(\"./Interaction_data2.csv\")\n",
    "\n",
    "\n"
   ]
  },
  {
   "cell_type": "code",
   "execution_count": 63,
   "id": "17ee3fe3-6f6f-4f5e-9dc6-c6d8d1c8086e",
   "metadata": {},
   "outputs": [
    {
     "data": {
      "text/plain": [
       "<bound method NDFrame.head of                                        pySubjectType  pyGroupID  \\\n",
       "0     DentsuMerkle-DentsuMerkleFWp-Data-Subscription        NaN   \n",
       "1     DentsuMerkle-DentsuMerkleFWp-Data-Subscription        NaN   \n",
       "2     DentsuMerkle-DentsuMerkleFWp-Data-Subscription        NaN   \n",
       "3     DentsuMerkle-DentsuMerkleFWp-Data-Subscription        NaN   \n",
       "4     DentsuMerkle-DentsuMerkleFWp-Data-Subscription        NaN   \n",
       "...                                              ...        ...   \n",
       "2222  DentsuMerkle-DentsuMerkleFWp-Data-Subscription        NaN   \n",
       "2223  DentsuMerkle-DentsuMerkleFWp-Data-Subscription        NaN   \n",
       "2224  DentsuMerkle-DentsuMerkleFWp-Data-Subscription        NaN   \n",
       "2225  DentsuMerkle-DentsuMerkleFWp-Data-Subscription        NaN   \n",
       "2226  DentsuMerkle-DentsuMerkleFWp-Data-Subscription        NaN   \n",
       "\n",
       "          pxInteractionID ControlGroupValidityStart  pyStage  pyJourney  \\\n",
       "0     2097370256456056191                       NaN      NaN        NaN   \n",
       "1     2097370256456056168                       NaN      NaN        NaN   \n",
       "2     2097370256456056176                       NaN      NaN        NaN   \n",
       "3     2097370256456056167                       NaN      NaN        NaN   \n",
       "4     2097370256456056155                       NaN      NaN        NaN   \n",
       "...                   ...                       ...      ...        ...   \n",
       "2222  2097370256456056187                       NaN      NaN        NaN   \n",
       "2223  2097370256456056188                       NaN      NaN        NaN   \n",
       "2224  2097370256456056158                       NaN      NaN        NaN   \n",
       "2225  2097370256456056189                       NaN      NaN        NaN   \n",
       "2226  2097370256456056165                       NaN      NaN        NaN   \n",
       "\n",
       "      AggregateCount ChannelSubGroup  pyLatitude  pyMaxBudget  ...  pyRevenue  \\\n",
       "0                  1             NaN           0            0  ...        NaN   \n",
       "1                  1             NaN           0            0  ...        NaN   \n",
       "2                  1             NaN           0            0  ...        NaN   \n",
       "3                  1             NaN           0            0  ...        NaN   \n",
       "4                  1             NaN           0            0  ...        NaN   \n",
       "...              ...             ...         ...          ...  ...        ...   \n",
       "2222               1             NaN           0            0  ...        NaN   \n",
       "2223               1             NaN           0            0  ...        NaN   \n",
       "2224               1             NaN           0            0  ...        NaN   \n",
       "2225               1             NaN           0            0  ...        NaN   \n",
       "2226               1             NaN           0            0  ...        NaN   \n",
       "\n",
       "     PlacementType  SubCategory  pxStreamPartition           pxDecisionTime  \\\n",
       "0              NaN          NaN                  0  20250310T185620.793 GMT   \n",
       "1              NaN          NaN                 10  20250310T185620.343 GMT   \n",
       "2              NaN          NaN                 12  20250310T185620.527 GMT   \n",
       "3              NaN          NaN                 14  20250310T185620.314 GMT   \n",
       "4              NaN          NaN                 15  20250310T185614.484 GMT   \n",
       "...            ...          ...                ...                      ...   \n",
       "2222           NaN          NaN                  3  20250310T185620.727 GMT   \n",
       "2223           NaN          NaN                  4  20250310T185620.771 GMT   \n",
       "2224           NaN          NaN                  6  20250310T185614.495 GMT   \n",
       "2225           NaN          NaN                  6  20250310T185620.787 GMT   \n",
       "2226           NaN          NaN                  9  20250310T185620.307 GMT   \n",
       "\n",
       "              pyLabel  IPAddress  ChannelGroup        pyStrategy  \\\n",
       "0     Savings Account        NaN         Email  BehavioralLimits   \n",
       "1     Savings Account        NaN         Email  BehavioralLimits   \n",
       "2     Savings Account        NaN         Email  BehavioralLimits   \n",
       "3     Savings Account        NaN         Email  BehavioralLimits   \n",
       "4     Savings Account        NaN         Email  BehavioralLimits   \n",
       "...               ...        ...           ...               ...   \n",
       "2222  Savings Account        NaN         Email  BehavioralLimits   \n",
       "2223  Savings Account        NaN         Email  BehavioralLimits   \n",
       "2224  Savings Account        NaN         Email  BehavioralLimits   \n",
       "2225  Savings Account        NaN         Email  BehavioralLimits   \n",
       "2226         Mortgage        NaN         Email  BehavioralLimits   \n",
       "\n",
       "     pxUpdateDateTime  \n",
       "0       1741632980860  \n",
       "1       1741632980412  \n",
       "2       1741632980680  \n",
       "3       1741632980411  \n",
       "4       1741632980150  \n",
       "...               ...  \n",
       "2222    1741632980795  \n",
       "2223    1741632980827  \n",
       "2224    1741632980150  \n",
       "2225    1741632980859  \n",
       "2226    1741632980414  \n",
       "\n",
       "[2227 rows x 87 columns]>"
      ]
     },
     "execution_count": 63,
     "metadata": {},
     "output_type": "execute_result"
    }
   ],
   "source": [
    "df.head"
   ]
  },
  {
   "cell_type": "code",
   "execution_count": 64,
   "id": "2fe0dd5d-ae73-4f1a-a5e3-27eae9e10576",
   "metadata": {},
   "outputs": [],
   "source": [
    "df = df.groupby(['pySubjectID','pyName','pyTreatment'])['pxDecisionTime'].max()"
   ]
  },
  {
   "cell_type": "code",
   "execution_count": 65,
   "id": "f42c96be-c4a1-4d3c-8b2e-da7ef1886267",
   "metadata": {},
   "outputs": [
    {
     "data": {
      "text/plain": [
       "pySubjectID  pyName              pyTreatment    \n",
       "1            FixedRateLoanOffer  TC084_formal       20250423T173454.571 GMT\n",
       "                                 TC085_cheerful     20250415T144259.460 GMT\n",
       "                                 TC086_Humorous     20250415T144021.268 GMT\n",
       "             HomeLoanOffer       TC066_formal       20250423T173454.571 GMT\n",
       "                                 TC067_cheerful     20250415T144012.293 GMT\n",
       "                                 TC068_Humorous     20250415T144034.536 GMT\n",
       "             ISASavingOffer      TC087_formal       20250421T190955.863 GMT\n",
       "                                 TC088_cheerful     20250414T140853.766 GMT\n",
       "                                 TC089_Humorous     20250414T141013.227 GMT\n",
       "             Mortgage            TC035              20250331T153843.572 GMT\n",
       "                                 TC051              20250402T172335.432 GMT\n",
       "             PlatinumCreditCard  TC069_formal       20250423T173437.477 GMT\n",
       "                                 TC070_cheerful     20250421T190608.324 GMT\n",
       "                                 TC071_Humorous     20250423T173457.813 GMT\n",
       "             PremierSavings      TC078_formal       20250421T190955.863 GMT\n",
       "                                 TC079_cheerful     20250421T190950.323 GMT\n",
       "             RegularSavings      TC075_formal       20250421T190955.863 GMT\n",
       "                                 TC076_cheerful     20250414T135114.195 GMT\n",
       "                                 TC077_Humorous     20250414T135041.411 GMT\n",
       "             RetailLoanOffer     TC081_formal       20250423T173454.571 GMT\n",
       "                                 TC082_cheerful     20250421T190950.323 GMT\n",
       "                                 TC083_Humorous     20250415T144259.460 GMT\n",
       "             RewardsCreditCard   TC063_formal       20250421T190608.324 GMT\n",
       "                                 TC064_cheerful     20250423T173457.813 GMT\n",
       "                                 TC065_Humorous     20250423T173437.477 GMT\n",
       "             SavingsAccount      Savings Account    20250313T154651.824 GMT\n",
       "                                 TC002              20250328T200326.619 GMT\n",
       "                                 TC003              20250403T135701.039 GMT\n",
       "                                 TC016              20250311T132115.020 GMT\n",
       "             TravelCreditCard    TC072_formal       20250423T173457.813 GMT\n",
       "                                 TC073_cheerful     20250421T190608.324 GMT\n",
       "                                 TC074_Humorous     20250414T135053.065 GMT\n",
       "2            Mortgage            TC035              20250310T185620.553 GMT\n",
       "3            SavingsAccount      TC003              20250310T185620.343 GMT\n",
       "4            Mortgage            TC035              20250310T185620.307 GMT\n",
       "5            Mortgage            TC035              20250310T185614.497 GMT\n",
       "             SavingsAccount      TC016              20250311T155622.493 GMT\n",
       "6            SavingsAccount      TC016              20250310T185620.787 GMT\n",
       "7            Mortgage            TC035              20250311T160345.699 GMT\n",
       "                                 TC051              20250311T160345.699 GMT\n",
       "8            Mortgage            TC035              20250310T185620.372 GMT\n",
       "9            SavingsAccount      TC016              20250310T185620.793 GMT\n",
       "10           Mortgage            TC051              20250311T160544.015 GMT\n",
       "             SavingsAccount      TC003              20250310T185614.492 GMT\n",
       "11           SavingsAccount      TC016              20250310T185620.314 GMT\n",
       "12           Mortgage            TC051              20250310T185620.307 GMT\n",
       "13           SavingsAccount      TC016              20250310T185614.493 GMT\n",
       "14           SavingsAccount      TC016              20250310T185620.527 GMT\n",
       "15           Mortgage            TC051              20250310T185620.658 GMT\n",
       "16           Mortgage            TC035              20250310T185620.512 GMT\n",
       "17           SavingsAccount      TC003              20250310T185620.727 GMT\n",
       "18           SavingsAccount      TC003              20250310T185614.495 GMT\n",
       "19           SavingsAccount      TC003              20250310T185620.771 GMT\n",
       "20           SavingsAccount      TC003              20250310T185614.484 GMT\n",
       "Name: pxDecisionTime, dtype: object"
      ]
     },
     "execution_count": 65,
     "metadata": {},
     "output_type": "execute_result"
    }
   ],
   "source": [
    "df"
   ]
  },
  {
   "cell_type": "code",
   "execution_count": 66,
   "id": "34736949-7c8f-4561-a8f1-c11bf7cd2fac",
   "metadata": {},
   "outputs": [],
   "source": [
    "df.reset_index().to_csv('GroupByAggregateTest.csv')"
   ]
  },
  {
   "cell_type": "code",
   "execution_count": 67,
   "id": "df3109eb-5dfd-454f-b6fc-d10a88c8b569",
   "metadata": {},
   "outputs": [],
   "source": [
    "#for k, gr in df:\n",
    "  #  print(k)\n",
    "  #  print(type(gr)) # This will output <class 'pandas.core.frame.DataFrame'>\n",
    "  #  print(gr)\n",
    "    # You can save each 'gr' in a csv as follows\n",
    "    #gr.to_csv('{}.csv'.format(k))"
   ]
  }
 ],
 "metadata": {
  "kernelspec": {
   "display_name": "Python 3 (ipykernel)",
   "language": "python",
   "name": "python3"
  },
  "language_info": {
   "codemirror_mode": {
    "name": "ipython",
    "version": 3
   },
   "file_extension": ".py",
   "mimetype": "text/x-python",
   "name": "python",
   "nbconvert_exporter": "python",
   "pygments_lexer": "ipython3",
   "version": "3.12.10"
  }
 },
 "nbformat": 4,
 "nbformat_minor": 5
}

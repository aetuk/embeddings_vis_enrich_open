{
 "cells": [
  {
   "cell_type": "markdown",
   "metadata": {},
   "source": [
    "### Load dataset"
   ]
  },
  {
   "cell_type": "code",
   "execution_count": null,
   "metadata": {},
   "outputs": [],
   "source": [
    "import os\n",
    "from dotenv import load_dotenv, find_dotenv\n",
    "\n",
    "load_dotenv(find_dotenv())\n",
    "\n",
    "#os.environ.get(\"OPENAI_API_KEY\")"
   ]
  },
  {
   "cell_type": "code",
   "execution_count": null,
   "metadata": {},
   "outputs": [],
   "source": [
    "category_column = \"category\"\n",
    "answer_column = \"content\"\n",
    "embedded_file = \"embeds.csv\"\n",
    "results_file = \"results.csv\""
   ]
  },
  {
   "cell_type": "code",
   "execution_count": null,
   "metadata": {},
   "outputs": [],
   "source": [
    "import pandas as pd\n",
    "import numpy as np\n",
    "\n",
    "\n",
    "# Currenty pre-processed - empty catergoies and answers removed\n",
    "df = pd.read_csv(\"./questions.csv\", sep=\";\")\n",
    "\n",
    "#Remove rows with empty answer_column or category_column values\n",
    "#df[[category_column, answer_column]].replace('', np.nan, inplace=True)\n",
    "#df = df[[category_column, answer_column]].dropna()\n",
    "\n",
    "#df = df.loc[pd.notnull(df[answer_column])]\n",
    "\n",
    "#df = df.reset_index(drop=True)\n",
    "\n",
    "df.head(3)"
   ]
  },
  {
   "cell_type": "code",
   "execution_count": null,
   "metadata": {},
   "outputs": [],
   "source": [
    "df.columns"
   ]
  },
  {
   "cell_type": "code",
   "execution_count": null,
   "metadata": {},
   "outputs": [],
   "source": [
    "categories = sorted(df[category_column].unique())\n",
    "categories"
   ]
  },
  {
   "cell_type": "code",
   "execution_count": null,
   "metadata": {},
   "outputs": [],
   "source": [
    "from openai.embeddings_utils import get_embeddings\n",
    "matrix = get_embeddings(df[answer_column].to_list(), engine=\"text-embedding-ada-002\")"
   ]
  },
  {
   "cell_type": "code",
   "execution_count": null,
   "metadata": {},
   "outputs": [],
   "source": [
    "from sklearn.decomposition import PCA\n",
    "\n",
    "pca = PCA(n_components=3)\n",
    "vis_dims = pca.fit_transform(matrix)\n",
    "#TODO - divide dimensions into their own columns\n",
    "df[\"embed_vis\"] = vis_dims.tolist()\n",
    "\n",
    "df1 = pd.DataFrame( vis_dims.tolist())\n",
    "\n",
    "df1.columns = ['text_emb_dim1_' + answer_column, 'text_emb_dim2_'+ answer_column, 'text_emb_dim3_'+ answer_column]\n",
    "\n",
    "results = df.join(df1)"
   ]
  },
  {
   "cell_type": "code",
   "execution_count": null,
   "metadata": {
    "scrolled": true
   },
   "outputs": [],
   "source": [
    "import plotly.graph_objs as go\n",
    "import numpy as np\n",
    "\n",
    "fig = go.Figure()\n",
    "\n",
    "for i, cat in enumerate(categories):\n",
    "    sub_matrix = np.array(df[df[\"category\"] == cat][\"embed_vis\"].to_list())\n",
    "    x = sub_matrix[:, 0]\n",
    "    y = sub_matrix[:, 1]\n",
    "    z = sub_matrix[:, 2]\n",
    "\n",
    "    fig.add_trace(\n",
    "        go.Scatter3d(\n",
    "            x=x,\n",
    "            y=y,\n",
    "            z=z,\n",
    "            mode=\"markers\",\n",
    "            marker=dict(size=5, color=i, colorscale=\"Viridis\", opacity=0.8),\n",
    "            name=cat,\n",
    "        )\n",
    "    )\n",
    "\n",
    "fig.update_layout(\n",
    "    autosize=False,\n",
    "    title=\"3D Scatter Plot of Categories\",\n",
    "    width=800,\n",
    "    height=500,\n",
    "    margin=dict(l=50, r=50, b=100, t=100, pad=10),\n",
    "    scene=dict(\n",
    "        xaxis=dict(title=\"x\"),\n",
    "        yaxis=dict(title=\"y\"),\n",
    "        zaxis=dict(title=\"z\"),\n",
    "    ),\n",
    ")\n",
    "\n",
    "fig.show()"
   ]
  },
  {
   "cell_type": "code",
   "execution_count": null,
   "metadata": {},
   "outputs": [],
   "source": [
    "#write out embeds\n",
    "df1.to_csv(embedded_file, sep='\\t')\n",
    "#write out input file with embeds\n",
    "results.drop('embed_vis', axis=1, inplace=True)\n",
    "#results.reset_index(drop=True, inplace=True)\n",
    "results.to_csv(results_file, sep='\\t', index=False)"
   ]
  },
  {
   "cell_type": "code",
   "execution_count": null,
   "metadata": {},
   "outputs": [],
   "source": []
  }
 ],
 "metadata": {
  "kernelspec": {
   "display_name": "Python 3 (ipykernel)",
   "language": "python",
   "name": "python3"
  },
  "language_info": {
   "codemirror_mode": {
    "name": "ipython",
    "version": 3
   },
   "file_extension": ".py",
   "mimetype": "text/x-python",
   "name": "python",
   "nbconvert_exporter": "python",
   "pygments_lexer": "ipython3",
   "version": "3.11.4"
  }
 },
 "nbformat": 4,
 "nbformat_minor": 4
}

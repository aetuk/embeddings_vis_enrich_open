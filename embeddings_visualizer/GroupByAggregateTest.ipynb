{
 "cells": [
  {
   "cell_type": "code",
   "execution_count": 1,
   "id": "6e00c9ec-2587-47ce-b5bf-0fb93ce9fff2",
   "metadata": {},
   "outputs": [],
   "source": [
    "import requests\n",
    "import json\n",
    "import numpy as np\n",
    "import ast\n",
    "\n",
    "import pandas as pd\n",
    "\n",
    "import urllib.request, json, os\n",
    "from dotenv import load_dotenv, find_dotenv\n",
    "\n",
    "load_dotenv(find_dotenv())\n",
    "\n",
    "df = pd.read_csv(\"./Interaction_data2.csv\")\n",
    "\n",
    "\n"
   ]
  },
  {
   "cell_type": "code",
   "execution_count": 2,
   "id": "2fe0dd5d-ae73-4f1a-a5e3-27eae9e10576",
   "metadata": {},
   "outputs": [],
   "source": [
    "df = df.groupby(['pySubjectID','pyName','pyTreatment','pyOutcome'])['pxDecisionTime'].max()"
   ]
  },
  {
   "cell_type": "code",
   "execution_count": 3,
   "id": "f42c96be-c4a1-4d3c-8b2e-da7ef1886267",
   "metadata": {},
   "outputs": [
    {
     "data": {
      "text/plain": [
       "pySubjectID  pyName              pyTreatment     pyOutcome \n",
       "1            FixedRateLoanOffer  TC084_formal    Impression    20250423T173454.571 GMT\n",
       "                                 TC085_cheerful  Impression    20250415T144259.460 GMT\n",
       "                                 TC086_Humorous  Impression    20250415T144021.268 GMT\n",
       "             HomeLoanOffer       TC066_formal    Impression    20250423T173454.571 GMT\n",
       "                                 TC067_cheerful  Impression    20250415T144012.293 GMT\n",
       "                                                                        ...           \n",
       "16           Mortgage            TC035           Pending       20250310T185620.512 GMT\n",
       "17           SavingsAccount      TC003           Pending       20250310T185620.727 GMT\n",
       "18           SavingsAccount      TC003           Pending       20250310T185614.495 GMT\n",
       "19           SavingsAccount      TC003           Pending       20250310T185620.771 GMT\n",
       "20           SavingsAccount      TC003           Pending       20250310T185614.484 GMT\n",
       "Name: pxDecisionTime, Length: 79, dtype: object"
      ]
     },
     "execution_count": 3,
     "metadata": {},
     "output_type": "execute_result"
    }
   ],
   "source": [
    "df"
   ]
  },
  {
   "cell_type": "code",
   "execution_count": 4,
   "id": "34736949-7c8f-4561-a8f1-c11bf7cd2fac",
   "metadata": {},
   "outputs": [],
   "source": [
    "df.to_csv('GroupByAggregateTest.csv')"
   ]
  },
  {
   "cell_type": "code",
   "execution_count": 67,
   "id": "df3109eb-5dfd-454f-b6fc-d10a88c8b569",
   "metadata": {},
   "outputs": [],
   "source": [
    "#for k, gr in df:\n",
    "  #  print(k)\n",
    "  #  print(type(gr)) # This will output <class 'pandas.core.frame.DataFrame'>\n",
    "  #  print(gr)\n",
    "    # You can save each 'gr' in a csv as follows\n",
    "    #gr.to_csv('{}.csv'.format(k))"
   ]
  }
 ],
 "metadata": {
  "kernelspec": {
   "display_name": "Python 3 (ipykernel)",
   "language": "python",
   "name": "python3"
  },
  "language_info": {
   "codemirror_mode": {
    "name": "ipython",
    "version": 3
   },
   "file_extension": ".py",
   "mimetype": "text/x-python",
   "name": "python",
   "nbconvert_exporter": "python",
   "pygments_lexer": "ipython3",
   "version": "3.12.10"
  }
 },
 "nbformat": 4,
 "nbformat_minor": 5
}

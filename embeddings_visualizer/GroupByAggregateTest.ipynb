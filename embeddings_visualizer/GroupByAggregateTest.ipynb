{
 "cells": [
  {
   "cell_type": "code",
   "execution_count": 14,
   "id": "6e00c9ec-2587-47ce-b5bf-0fb93ce9fff2",
   "metadata": {},
   "outputs": [],
   "source": [
    "import requests\n",
    "import json\n",
    "import numpy as np\n",
    "import ast\n",
    "\n",
    "import pandas as pd\n",
    "\n",
    "import urllib.request, json, os\n",
    "from dotenv import load_dotenv, find_dotenv\n",
    "\n",
    "load_dotenv(find_dotenv())\n",
    "\n",
    "df = pd.read_csv(\"./Interaction_data2.csv\")\n",
    "\n",
    "\n"
   ]
  },
  {
   "cell_type": "code",
   "execution_count": 15,
   "id": "17ee3fe3-6f6f-4f5e-9dc6-c6d8d1c8086e",
   "metadata": {},
   "outputs": [
    {
     "data": {
      "text/plain": [
       "<bound method NDFrame.head of                                        pySubjectType  pyGroupID  \\\n",
       "0     DentsuMerkle-DentsuMerkleFWp-Data-Subscription        NaN   \n",
       "1     DentsuMerkle-DentsuMerkleFWp-Data-Subscription        NaN   \n",
       "2     DentsuMerkle-DentsuMerkleFWp-Data-Subscription        NaN   \n",
       "3     DentsuMerkle-DentsuMerkleFWp-Data-Subscription        NaN   \n",
       "4     DentsuMerkle-DentsuMerkleFWp-Data-Subscription        NaN   \n",
       "...                                              ...        ...   \n",
       "2222  DentsuMerkle-DentsuMerkleFWp-Data-Subscription        NaN   \n",
       "2223  DentsuMerkle-DentsuMerkleFWp-Data-Subscription        NaN   \n",
       "2224  DentsuMerkle-DentsuMerkleFWp-Data-Subscription        NaN   \n",
       "2225  DentsuMerkle-DentsuMerkleFWp-Data-Subscription        NaN   \n",
       "2226  DentsuMerkle-DentsuMerkleFWp-Data-Subscription        NaN   \n",
       "\n",
       "          pxInteractionID ControlGroupValidityStart  pyStage  pyJourney  \\\n",
       "0     2097370256456056191                       NaN      NaN        NaN   \n",
       "1     2097370256456056168                       NaN      NaN        NaN   \n",
       "2     2097370256456056176                       NaN      NaN        NaN   \n",
       "3     2097370256456056167                       NaN      NaN        NaN   \n",
       "4     2097370256456056155                       NaN      NaN        NaN   \n",
       "...                   ...                       ...      ...        ...   \n",
       "2222  2097370256456056187                       NaN      NaN        NaN   \n",
       "2223  2097370256456056188                       NaN      NaN        NaN   \n",
       "2224  2097370256456056158                       NaN      NaN        NaN   \n",
       "2225  2097370256456056189                       NaN      NaN        NaN   \n",
       "2226  2097370256456056165                       NaN      NaN        NaN   \n",
       "\n",
       "      AggregateCount ChannelSubGroup  pyLatitude  pyMaxBudget  ...  pyRevenue  \\\n",
       "0                  1             NaN           0            0  ...        NaN   \n",
       "1                  1             NaN           0            0  ...        NaN   \n",
       "2                  1             NaN           0            0  ...        NaN   \n",
       "3                  1             NaN           0            0  ...        NaN   \n",
       "4                  1             NaN           0            0  ...        NaN   \n",
       "...              ...             ...         ...          ...  ...        ...   \n",
       "2222               1             NaN           0            0  ...        NaN   \n",
       "2223               1             NaN           0            0  ...        NaN   \n",
       "2224               1             NaN           0            0  ...        NaN   \n",
       "2225               1             NaN           0            0  ...        NaN   \n",
       "2226               1             NaN           0            0  ...        NaN   \n",
       "\n",
       "     PlacementType  SubCategory  pxStreamPartition           pxDecisionTime  \\\n",
       "0              NaN          NaN                  0  20250310T185620.793 GMT   \n",
       "1              NaN          NaN                 10  20250310T185620.343 GMT   \n",
       "2              NaN          NaN                 12  20250310T185620.527 GMT   \n",
       "3              NaN          NaN                 14  20250310T185620.314 GMT   \n",
       "4              NaN          NaN                 15  20250310T185614.484 GMT   \n",
       "...            ...          ...                ...                      ...   \n",
       "2222           NaN          NaN                  3  20250310T185620.727 GMT   \n",
       "2223           NaN          NaN                  4  20250310T185620.771 GMT   \n",
       "2224           NaN          NaN                  6  20250310T185614.495 GMT   \n",
       "2225           NaN          NaN                  6  20250310T185620.787 GMT   \n",
       "2226           NaN          NaN                  9  20250310T185620.307 GMT   \n",
       "\n",
       "              pyLabel  IPAddress  ChannelGroup        pyStrategy  \\\n",
       "0     Savings Account        NaN         Email  BehavioralLimits   \n",
       "1     Savings Account        NaN         Email  BehavioralLimits   \n",
       "2     Savings Account        NaN         Email  BehavioralLimits   \n",
       "3     Savings Account        NaN         Email  BehavioralLimits   \n",
       "4     Savings Account        NaN         Email  BehavioralLimits   \n",
       "...               ...        ...           ...               ...   \n",
       "2222  Savings Account        NaN         Email  BehavioralLimits   \n",
       "2223  Savings Account        NaN         Email  BehavioralLimits   \n",
       "2224  Savings Account        NaN         Email  BehavioralLimits   \n",
       "2225  Savings Account        NaN         Email  BehavioralLimits   \n",
       "2226         Mortgage        NaN         Email  BehavioralLimits   \n",
       "\n",
       "     pxUpdateDateTime  \n",
       "0       1741632980860  \n",
       "1       1741632980412  \n",
       "2       1741632980680  \n",
       "3       1741632980411  \n",
       "4       1741632980150  \n",
       "...               ...  \n",
       "2222    1741632980795  \n",
       "2223    1741632980827  \n",
       "2224    1741632980150  \n",
       "2225    1741632980859  \n",
       "2226    1741632980414  \n",
       "\n",
       "[2227 rows x 87 columns]>"
      ]
     },
     "execution_count": 15,
     "metadata": {},
     "output_type": "execute_result"
    }
   ],
   "source": [
    "df.head"
   ]
  },
  {
   "cell_type": "code",
   "execution_count": 17,
   "id": "2fe0dd5d-ae73-4f1a-a5e3-27eae9e10576",
   "metadata": {},
   "outputs": [
    {
     "data": {
      "text/plain": [
       "pySubjectID  pyName              pyTreatment     pyOutcome \n",
       "1            FixedRateLoanOffer  TC084_formal    Impression    20250423T173454.571 GMT\n",
       "                                 TC085_cheerful  Impression    20250415T144259.460 GMT\n",
       "                                 TC086_Humorous  Impression    20250415T144021.268 GMT\n",
       "             HomeLoanOffer       TC066_formal    Impression    20250423T173454.571 GMT\n",
       "                                 TC067_cheerful  Impression    20250415T144012.293 GMT\n",
       "                                                                        ...           \n",
       "16           Mortgage            TC035           Pending       20250310T185620.512 GMT\n",
       "17           SavingsAccount      TC003           Pending       20250310T185620.727 GMT\n",
       "18           SavingsAccount      TC003           Pending       20250310T185614.495 GMT\n",
       "19           SavingsAccount      TC003           Pending       20250310T185620.771 GMT\n",
       "20           SavingsAccount      TC003           Pending       20250310T185614.484 GMT\n",
       "Name: pxDecisionTime, Length: 79, dtype: object"
      ]
     },
     "execution_count": 17,
     "metadata": {},
     "output_type": "execute_result"
    }
   ],
   "source": [
    "df.groupby(['pySubjectID','pyName', 'pyTreatment', 'pyOutcome'])['pxDecisionTime'].max()"
   ]
  },
  {
   "cell_type": "code",
   "execution_count": null,
   "id": "df3109eb-5dfd-454f-b6fc-d10a88c8b569",
   "metadata": {},
   "outputs": [],
   "source": []
  }
 ],
 "metadata": {
  "kernelspec": {
   "display_name": "Python 3 (ipykernel)",
   "language": "python",
   "name": "python3"
  },
  "language_info": {
   "codemirror_mode": {
    "name": "ipython",
    "version": 3
   },
   "file_extension": ".py",
   "mimetype": "text/x-python",
   "name": "python",
   "nbconvert_exporter": "python",
   "pygments_lexer": "ipython3",
   "version": "3.12.10"
  }
 },
 "nbformat": 4,
 "nbformat_minor": 5
}
